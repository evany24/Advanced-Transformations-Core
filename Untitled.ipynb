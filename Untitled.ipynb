{
 "cells": [
  {
   "cell_type": "markdown",
   "id": "0e2586fe",
   "metadata": {},
   "source": [
    "# The Task\n",
    "## Your task is two-fold:\n",
    "\n",
    "### 1. Clean the files and combine them into one final DataFrame.\n",
    "\n",
    "#### This dataframe should have the following columns:\n",
    " - Hero (Just the name of the Hero)\n",
    " - Publisher\n",
    " - Gender\n",
    " - Eye color\n",
    " - Race\n",
    " - Hair color\n",
    " - Height (numeric)\n",
    " - Skin color\n",
    " - Alignment\n",
    " - Weight (numeric)\n",
    "#### Plus, one-hot-encoded columns for every power that appears in the dataset. E.g.:\n",
    " - Agility\n",
    " - Flight\n",
    " - Superspeed\n",
    " - etc.\n",
    "- Hint: There is a space in \"100 kg\" or \"52.5 cm\"\n",
    "\n",
    "\n",
    "\n",
    "### 2. Use your combined DataFrame to answer the following questions.\n",
    "\n",
    "- Compare the average weight of super powers who have Super Speed to those who do not.\n",
    "- What is the average height of heroes for each publisher?"
   ]
  },
  {
   "cell_type": "markdown",
   "id": "22dd9aa8",
   "metadata": {},
   "source": [
    "### Load 2 datasets\n",
    " - **superhero_info.csv**\n",
    "  - Contains Name, Publisher, Demographic Info, and Body measurements.\n",
    " - **superhero_powers.csv**\n",
    "  - Contains Hero name and list of powers"
   ]
  },
  {
   "cell_type": "markdown",
   "id": "997127b4",
   "metadata": {},
   "source": [
    "## Import Libraries"
   ]
  },
  {
   "cell_type": "code",
   "execution_count": 1,
   "id": "980d0120",
   "metadata": {},
   "outputs": [],
   "source": [
    "# imports\n",
    "import numpy as np\n",
    "import pandas as pd\n",
    "import matplotlib.pyplot as plt\n",
    "import seaborn as sns\n",
    "import os,json"
   ]
  },
  {
   "cell_type": "markdown",
   "id": "6470351a",
   "metadata": {},
   "source": [
    "## Load the Data"
   ]
  },
  {
   "cell_type": "markdown",
   "id": "b781e5ad",
   "metadata": {},
   "source": [
    "### Create data folder"
   ]
  },
  {
   "cell_type": "code",
   "execution_count": 2,
   "id": "10937fbd",
   "metadata": {},
   "outputs": [
    {
     "data": {
      "text/plain": [
       "[]"
      ]
     },
     "execution_count": 2,
     "metadata": {},
     "output_type": "execute_result"
    }
   ],
   "source": [
    "import os\n",
    "os.makedirs('Data/',exist_ok=True) \n",
    "# Confirm folder created\n",
    "os.listdir(\"Data/\")"
   ]
  },
  {
   "cell_type": "code",
   "execution_count": null,
   "id": "7eeea838",
   "metadata": {},
   "outputs": [],
   "source": []
  }
 ],
 "metadata": {
  "kernelspec": {
   "display_name": "Python (dojo-env)",
   "language": "python",
   "name": "dojo-env"
  },
  "language_info": {
   "codemirror_mode": {
    "name": "ipython",
    "version": 3
   },
   "file_extension": ".py",
   "mimetype": "text/x-python",
   "name": "python",
   "nbconvert_exporter": "python",
   "pygments_lexer": "ipython3",
   "version": "3.9.15"
  },
  "toc": {
   "base_numbering": 1,
   "nav_menu": {},
   "number_sections": false,
   "sideBar": true,
   "skip_h1_title": false,
   "title_cell": "Table of Contents",
   "title_sidebar": "Contents",
   "toc_cell": false,
   "toc_position": {},
   "toc_section_display": true,
   "toc_window_display": true
  }
 },
 "nbformat": 4,
 "nbformat_minor": 5
}
